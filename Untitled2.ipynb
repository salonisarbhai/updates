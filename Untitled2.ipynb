{
  "nbformat": 4,
  "nbformat_minor": 0,
  "metadata": {
    "colab": {
      "name": "Untitled2.ipynb",
      "provenance": [],
      "authorship_tag": "ABX9TyNvbkoABrkYrWPe2btWjjro",
      "include_colab_link": true
    },
    "kernelspec": {
      "name": "python3",
      "display_name": "Python 3"
    }
  },
  "cells": [
    {
      "cell_type": "markdown",
      "metadata": {
        "id": "view-in-github",
        "colab_type": "text"
      },
      "source": [
        "<a href=\"https://colab.research.google.com/github/salonisarbhai/updates/blob/master/Untitled2.ipynb\" target=\"_parent\"><img src=\"https://colab.research.google.com/assets/colab-badge.svg\" alt=\"Open In Colab\"/></a>"
      ]
    },
    {
      "cell_type": "code",
      "metadata": {
        "id": "utRhfhbRuBd4",
        "colab_type": "code",
        "outputId": "c0f7d157-575e-4e47-d4b8-570f643a444f",
        "colab": {
          "base_uri": "https://localhost:8080/",
          "height": 34
        }
      },
      "source": [
        "import re\n",
        "xx = \"guru 99, education is fun\"\n",
        "r1 = re.findall (r\"^\\w+\",xx)\n",
        "print (r1)"
      ],
      "execution_count": 0,
      "outputs": [
        {
          "output_type": "stream",
          "text": [
            "['guru']\n"
          ],
          "name": "stdout"
        }
      ]
    },
    {
      "cell_type": "code",
      "metadata": {
        "id": "aKjvmSX8ul3F",
        "colab_type": "code",
        "outputId": "20bbcd80-c96e-4bc9-ccb0-292c3f156618",
        "colab": {
          "base_uri": "https://localhost:8080/",
          "height": 197
        }
      },
      "source": [
        "import re\n",
        "xx = \"guru99, education is fun\"\n",
        "r1 = re.findall (r\"^\\w\")"
      ],
      "execution_count": 0,
      "outputs": [
        {
          "output_type": "error",
          "ename": "TypeError",
          "evalue": "ignored",
          "traceback": [
            "\u001b[0;31m---------------------------------------------------------------------------\u001b[0m",
            "\u001b[0;31mTypeError\u001b[0m                                 Traceback (most recent call last)",
            "\u001b[0;32m<ipython-input-2-a7d64d0ef12f>\u001b[0m in \u001b[0;36m<module>\u001b[0;34m()\u001b[0m\n\u001b[1;32m      1\u001b[0m \u001b[0;32mimport\u001b[0m \u001b[0mre\u001b[0m\u001b[0;34m\u001b[0m\u001b[0;34m\u001b[0m\u001b[0m\n\u001b[1;32m      2\u001b[0m \u001b[0mxx\u001b[0m \u001b[0;34m=\u001b[0m \u001b[0;34m\"guru99, education is fun\"\u001b[0m\u001b[0;34m\u001b[0m\u001b[0;34m\u001b[0m\u001b[0m\n\u001b[0;32m----> 3\u001b[0;31m \u001b[0mr1\u001b[0m \u001b[0;34m=\u001b[0m \u001b[0mre\u001b[0m\u001b[0;34m.\u001b[0m\u001b[0mfindall\u001b[0m \u001b[0;34m(\u001b[0m\u001b[0;34mr\"^\\w\"\u001b[0m\u001b[0;34m)\u001b[0m\u001b[0;34m\u001b[0m\u001b[0;34m\u001b[0m\u001b[0m\n\u001b[0m",
            "\u001b[0;31mTypeError\u001b[0m: findall() missing 1 required positional argument: 'string'"
          ]
        }
      ]
    },
    {
      "cell_type": "code",
      "metadata": {
        "id": "HM_pf7pGuzxM",
        "colab_type": "code",
        "outputId": "39bf7850-60f6-445d-b730-4c0aaa3f7383",
        "colab": {
          "base_uri": "https://localhost:8080/",
          "height": 34
        }
      },
      "source": [
        "import re\n",
        "xx = \"guru99, education is fun\"\n",
        "r1 = re.findall(r\"^\\w+\", xx)\n",
        "print (r1)\n"
      ],
      "execution_count": 0,
      "outputs": [
        {
          "output_type": "stream",
          "text": [
            "['guru99']\n"
          ],
          "name": "stdout"
        }
      ]
    },
    {
      "cell_type": "code",
      "metadata": {
        "id": "lmVUcKqhvbMP",
        "colab_type": "code",
        "outputId": "a21f8393-2ba7-4158-cbdb-b4f911efcdba",
        "colab": {
          "base_uri": "https://localhost:8080/",
          "height": 34
        }
      },
      "source": [
        "import re\n",
        "print ((re.split(r'\\s', 'we are splitting the words')))"
      ],
      "execution_count": 0,
      "outputs": [
        {
          "output_type": "stream",
          "text": [
            "['we', 'are', 'splitting', 'the', 'words']\n"
          ],
          "name": "stdout"
        }
      ]
    },
    {
      "cell_type": "code",
      "metadata": {
        "id": "cS2qYLhC7bDW",
        "colab_type": "code",
        "colab": {}
      },
      "source": [
        "import re \n",
        "list = [\"guru99 get\", \"guru99 give\", \"guru99 Selenium\"]\n",
        "for element in list:\n",
        "  z = re.match(\"(g\\w+) \\W (g\\w+)\", element)\n",
        "  if z:\n",
        "    print((z.groups()))"
      ],
      "execution_count": 0,
      "outputs": []
    },
    {
      "cell_type": "code",
      "metadata": {
        "id": "e_pU8Xr79F-k",
        "colab_type": "code",
        "outputId": "fb55b702-b200-4a67-fac1-b1edfea9ead7",
        "colab": {
          "base_uri": "https://localhost:8080/",
          "height": 51
        }
      },
      "source": [
        "import re \n",
        "\n",
        "list = [\"guru99 get\", \"guru99 give\", \"guru Selenium\"]\n",
        "\n",
        "for element in list:\n",
        "\n",
        "    z = re.match(\"(g\\w+)\\W(g\\w+)\", element)\n",
        "    if z:\n",
        "      print((z.groups()))"
      ],
      "execution_count": 0,
      "outputs": [
        {
          "output_type": "stream",
          "text": [
            "('guru99', 'get')\n",
            "('guru99', 'give')\n"
          ],
          "name": "stdout"
        }
      ]
    },
    {
      "cell_type": "code",
      "metadata": {
        "id": "mET8D48uD-vK",
        "colab_type": "code",
        "colab": {
          "base_uri": "https://localhost:8080/",
          "height": 129
        },
        "outputId": "32718bc2-caf0-4bae-ef24-196e3371990d"
      },
      "source": [
        "import re \n",
        "patterns = ['software testing', 'guru99']\n",
        "text = 'software testing is fun'\n",
        "for pattern in patterns:\n",
        "  print('Looking for \"%s\" in \"%s\" ->'%(pattern,text), end=' ')\n",
        "  if re.search (pattern,text)\n",
        "    print ('found a match')\n",
        "  else\n",
        "    print ('no match')"
      ],
      "execution_count": 13,
      "outputs": [
        {
          "output_type": "error",
          "ename": "SyntaxError",
          "evalue": "ignored",
          "traceback": [
            "\u001b[0;36m  File \u001b[0;32m\"<ipython-input-13-8f65c8697d3b>\"\u001b[0;36m, line \u001b[0;32m6\u001b[0m\n\u001b[0;31m    if re.search (pattern,text)\u001b[0m\n\u001b[0m                               ^\u001b[0m\n\u001b[0;31mSyntaxError\u001b[0m\u001b[0;31m:\u001b[0m invalid syntax\n"
          ]
        }
      ]
    },
    {
      "cell_type": "code",
      "metadata": {
        "id": "ALkIfCdSG0Ok",
        "colab_type": "code",
        "colab": {
          "base_uri": "https://localhost:8080/",
          "height": 51
        },
        "outputId": "fe17e9db-4bed-4c7c-fbc2-c2e450cb73d2"
      },
      "source": [
        "import re \n",
        "patterns = ['software testing', 'guru99']\n",
        "text = 'software testing is fun'\n",
        "for pattern in patterns:\n",
        "  print('Looking for \"%s\" in \"%s\" ->'%(pattern,text), end=' ')\n",
        "  if re.search (pattern,text):\n",
        "    print ('found a match')\n",
        "  else:\n",
        "    print ('no match')"
      ],
      "execution_count": 15,
      "outputs": [
        {
          "output_type": "stream",
          "text": [
            "Looking for \"software testing\" in \"software testing is fun\" -> found a match\n",
            "Looking for \"guru99\" in \"software testing is fun\" -> no match\n"
          ],
          "name": "stdout"
        }
      ]
    },
    {
      "cell_type": "code",
      "metadata": {
        "id": "hg7rk6AVHAF2",
        "colab_type": "code",
        "colab": {
          "base_uri": "https://localhost:8080/",
          "height": 68
        },
        "outputId": "411755e6-ed71-46f0-e1d7-e570f4bc7a6b"
      },
      "source": [
        "import re \n",
        "abc = 'guru99@gmail.com, careerguru99@hotmail.com, users@yahoomail.com'\n",
        "emails = re.findall (r'[\\w\\.-]+@[\\w\\.-]+', abc)\n",
        "for email in emails:\n",
        "  print (email)\n"
      ],
      "execution_count": 16,
      "outputs": [
        {
          "output_type": "stream",
          "text": [
            "guru99@gmail.com\n",
            "careerguru99@hotmail.com\n",
            "users@yahoomail.com\n"
          ],
          "name": "stdout"
        }
      ]
    },
    {
      "cell_type": "code",
      "metadata": {
        "id": "KYgvWUHDMMcK",
        "colab_type": "code",
        "colab": {
          "base_uri": "https://localhost:8080/",
          "height": 102
        },
        "outputId": "d975d7cd-d798-4ffc-96f8-1919595f9b81"
      },
      "source": [
        "import re\n",
        "\n",
        "list = [\"guru99 get\", \"guru99 give\", \"guru Selenium\"]\n",
        "for element in list:\n",
        "    z = re.match(\"(g\\w+)\\W(g\\w+)\", element)\n",
        "if z:\n",
        "    print((z.groups()))\n",
        "    \n",
        "patterns = ['software testing', 'guru99']\n",
        "text = 'software testing is fun?'\n",
        "for pattern in patterns:\n",
        "    print('Looking for \"%s\" in \"%s\" ->' % (pattern, text), end=' ')\n",
        "    if re.search(pattern, text):\n",
        "        print('found a match!')\n",
        "else:\n",
        "    print('no match')\n",
        "abc = 'guru99@google.com, careerguru99@hotmail.com, users@yahoomail.com'\n",
        "emails = re.findall(r'[\\w\\.-]+@[\\w\\.-]+', abc)\n",
        "for email in emails:\n",
        "    print(email)"
      ],
      "execution_count": 18,
      "outputs": [
        {
          "output_type": "stream",
          "text": [
            "Looking for \"software testing\" in \"software testing is fun?\" -> found a match!\n",
            "Looking for \"guru99\" in \"software testing is fun?\" -> no match\n",
            "guru99@google.com\n",
            "careerguru99@hotmail.com\n",
            "users@yahoomail.com\n"
          ],
          "name": "stdout"
        }
      ]
    }
  ]
}